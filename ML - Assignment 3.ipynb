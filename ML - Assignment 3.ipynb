{
  "nbformat": 4,
  "nbformat_minor": 0,
  "metadata": {
    "colab": {
      "name": "#3 ML Assignment.ipynb",
      "provenance": [],
      "collapsed_sections": []
    },
    "kernelspec": {
      "name": "python3",
      "display_name": "Python 3"
    }
  },
  "cells": [
    {
      "cell_type": "code",
      "metadata": {
        "id": "JapvW2TaRjgH",
        "colab_type": "code",
        "outputId": "6bceae5d-374a-4381-a4ad-65f976a72ed5",
        "colab": {
          "base_uri": "https://localhost:8080/",
          "height": 52
        }
      },
      "source": [
        "#Q 2.1\n",
        "try:\n",
        "  a = 3/0\n",
        "except:\n",
        "  print(\"Division by 0 Error\")\n",
        "print(\"Hello World\")"
      ],
      "execution_count": 0,
      "outputs": [
        {
          "output_type": "stream",
          "text": [
            "Division by 0 Error\n",
            "Hello World\n"
          ],
          "name": "stdout"
        }
      ]
    },
    {
      "cell_type": "code",
      "metadata": {
        "id": "C63Gi9_bTrzQ",
        "colab_type": "code",
        "outputId": "31a2ee13-2946-40ad-b756-42bcc084a038",
        "colab": {
          "base_uri": "https://localhost:8080/",
          "height": 156
        }
      },
      "source": [
        "#Q 2.2\n",
        "\n",
        "subjects=[\"Americans\",\"Indians\"]\n",
        "\n",
        "verbs=[\"play\",\"watch\"]\n",
        "\n",
        "sports=[\"Baseball\",\"Cricket\"]\n",
        "\n",
        "for subject in subjects:\n",
        "  for verb in verbs:\n",
        "   for sport in sports:\n",
        "     print(subject+\" \"+verb+ \" \"+sport)"
      ],
      "execution_count": 0,
      "outputs": [
        {
          "output_type": "stream",
          "text": [
            "Americans play Baseball\n",
            "Americans play Cricket\n",
            "Americans watch Baseball\n",
            "Americans watch Cricket\n",
            "Indians play Baseball\n",
            "Indians play Cricket\n",
            "Indians watch Baseball\n",
            "Indians watch Cricket\n"
          ],
          "name": "stdout"
        }
      ]
    },
    {
      "cell_type": "code",
      "metadata": {
        "id": "XUlC1nWvg45l",
        "colab_type": "code",
        "outputId": "51596915-5844-4cfa-abbf-8097b42d6480",
        "colab": {
          "base_uri": "https://localhost:8080/",
          "height": 34
        }
      },
      "source": [
        "# Q 2.1\n",
        "\n",
        "ipList = [1,2,3,4,5]\n",
        "N = len(ipList) - 1\n",
        "opValue = list()\n",
        "for val in ipList:\n",
        "  #print(\"*\" * 10)\n",
        "  #print(\"Index: \" + str(val))\n",
        "  #print(\"*\" * 10)\n",
        "  val1 = list()\n",
        "  for i in range(N):\n",
        "      value = int(val ** (N-i-1))\n",
        "      val1.append(value);\n",
        "  #print(val1)\n",
        "  opValue.append(val1)\n",
        "      #opValue[val][i].extend(value)\n",
        "print(opValue)"
      ],
      "execution_count": 2,
      "outputs": [
        {
          "output_type": "stream",
          "text": [
            "[[1, 1, 1, 1], [8, 4, 2, 1], [27, 9, 3, 1], [64, 16, 4, 1], [125, 25, 5, 1]]\n"
          ],
          "name": "stdout"
        }
      ]
    }
  ]
}