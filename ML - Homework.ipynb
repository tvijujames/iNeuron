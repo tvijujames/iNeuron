{
  "nbformat": 4,
  "nbformat_minor": 0,
  "metadata": {
    "kernelspec": {
      "display_name": "Python 3",
      "language": "python",
      "name": "python3"
    },
    "language_info": {
      "codemirror_mode": {
        "name": "ipython",
        "version": 3
      },
      "file_extension": ".py",
      "mimetype": "text/x-python",
      "name": "python",
      "nbconvert_exporter": "python",
      "pygments_lexer": "ipython3",
      "version": "3.7.6"
    },
    "colab": {
      "name": "Assignment - OOP.ipynb",
      "provenance": [],
      "collapsed_sections": [],
      "toc_visible": true
    }
  },
  "cells": [
    {
      "cell_type": "markdown",
      "metadata": {
        "id": "oKLTc-7WR0k6",
        "colab_type": "text"
      },
      "source": [
        "# Assignment - OOP"
      ]
    },
    {
      "cell_type": "code",
      "metadata": {
        "id": "RxBod9BDR0k_",
        "colab_type": "code",
        "outputId": "a6cff88c-19f3-4734-8af8-13924df097cd",
        "colab": {
          "base_uri": "https://localhost:8080/",
          "height": 68
        }
      },
      "source": [
        "class A:\n",
        "    def __init__(self, argA):\n",
        "        self.argA = argA\n",
        "    \n",
        "    def displayStr(self):\n",
        "        print((self.argA+','),\"class A displayStr()\")\n",
        "    \n",
        "class B:\n",
        "    def __init__(self, argB):\n",
        "        self.argB = argB\n",
        "    \n",
        "    def displayStr(self):\n",
        "        print((self.argB+','),\"class B displayStr()\\n\")\n",
        "\n",
        "class C(A,B):\n",
        "    def __init__(self, *args):\n",
        "        super(C, self).__init__(*args)\n",
        "        B(*args).displayStr()\n",
        "\n",
        "objC = C(\"Hello World\");\n",
        "objC.displayStr()\n"
      ],
      "execution_count": 41,
      "outputs": [
        {
          "output_type": "stream",
          "text": [
            "Hello World, class B displayStr()\n",
            "\n",
            "Hello World, class A displayStr()\n"
          ],
          "name": "stdout"
        }
      ]
    },
    {
      "cell_type": "code",
      "metadata": {
        "id": "nqoY-gKgR0lI",
        "colab_type": "code",
        "colab": {}
      },
      "source": [
        ""
      ],
      "execution_count": 0,
      "outputs": []
    }
  ]
}