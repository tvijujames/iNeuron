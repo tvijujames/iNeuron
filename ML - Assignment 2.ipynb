{
  "nbformat": 4,
  "nbformat_minor": 0,
  "metadata": {
    "kernelspec": {
      "display_name": "Python 3",
      "language": "python",
      "name": "python3"
    },
    "language_info": {
      "codemirror_mode": {
        "name": "ipython",
        "version": 3
      },
      "file_extension": ".py",
      "mimetype": "text/x-python",
      "name": "python",
      "nbconvert_exporter": "python",
      "pygments_lexer": "ipython3",
      "version": "3.7.4"
    },
    "colab": {
      "name": "#2 - ML Assignment.ipynb",
      "provenance": [],
      "collapsed_sections": []
    }
  },
  "cells": [
    {
      "cell_type": "markdown",
      "metadata": {
        "id": "nGv4EUsdACfe",
        "colab_type": "text"
      },
      "source": [
        "# Task 1"
      ]
    },
    {
      "cell_type": "code",
      "metadata": {
        "id": "NmiDtodrACff",
        "colab_type": "code",
        "outputId": "d289f896-3788-4348-b7d8-e531c567e312",
        "colab": {}
      },
      "source": [
        "#Custom reduce() function - Q 1.1\n",
        "\n",
        "from functools import reduce\n",
        "\n",
        "#using reduce()\n",
        "#def reduceFunction(val1, val2):\n",
        "#    return val1 + val2\n",
        "#print(reduce(reduceFunction,listNum))\n",
        "\n",
        "listNum = [1,2,3,4,5]\n",
        "def reduceFunction(x,y):\n",
        "    return x + y\n",
        "\n",
        "def mycustomReduce(functionName, argList):\n",
        "    x = argList[0]\n",
        "    sumValue = 0\n",
        "#    print (x)\n",
        "    for y in argList[1:]:\n",
        "#        print(y)\n",
        "        sumValue = functionName(x,y)\n",
        "        x = sumValue\n",
        "    return sumValue\n",
        "        \n",
        "print(mycustomReduce(reduceFunction,listNum))"
      ],
      "execution_count": 0,
      "outputs": [
        {
          "output_type": "stream",
          "text": [
            "15\n"
          ],
          "name": "stdout"
        }
      ]
    },
    {
      "cell_type": "code",
      "metadata": {
        "id": "jAkAxpEdACfl",
        "colab_type": "code",
        "outputId": "d191c20e-b01d-46e3-cffe-5c68593bf586",
        "colab": {}
      },
      "source": [
        "#Custom filter() function - Q 1.2\n",
        "#def filterFunction(arg):\n",
        "#    if(arg %2 == 0):\n",
        "#        return True\n",
        "#    else:\n",
        "#        return False\n",
        "    \n",
        "#argList = [1,2,3,4,5,6,7,8,9,10]   \n",
        "#opValue = filter(filterFunction,argList)\n",
        "#print(opValue)\n",
        "#for arrVal in opValue:\n",
        "#    print(arrVal)\n",
        "    \n",
        "def functFilter(value):\n",
        "    if value % 2 == 0:\n",
        "        return value\n",
        "    else:\n",
        "        return False\n",
        "    \n",
        "def customFilter(functName, listValue):\n",
        "    filterValue = []\n",
        "    for listVal in listValue:\n",
        "        #print (listVal)\n",
        "        retVal = functName(listVal)\n",
        "        if (retVal):\n",
        "            #print (retVal)\n",
        "            filterValue.append(retVal)\n",
        "    return filterValue\n",
        "\n",
        "argList = [1,2,3,4,5,6,7,8,9,10]\n",
        "\n",
        "opList = customFilter(functFilter,argList)\n",
        "\n",
        "for val in opList:\n",
        "    print (val)\n",
        "\n",
        "\n",
        "    "
      ],
      "execution_count": 0,
      "outputs": [
        {
          "output_type": "stream",
          "text": [
            "2\n",
            "4\n",
            "6\n",
            "8\n",
            "10\n"
          ],
          "name": "stdout"
        }
      ]
    },
    {
      "cell_type": "code",
      "metadata": {
        "id": "AM0KKMcIACfo",
        "colab_type": "code",
        "outputId": "ae25431d-f207-46ed-afb7-de9822fda365",
        "colab": {
          "base_uri": "https://localhost:8080/",
          "height": 119
        }
      },
      "source": [
        "#List Comprehensions - Q 2\n",
        "\n",
        "\n",
        "#List 1\n",
        "#['A', 'C', 'A', 'D', 'G', 'I', 'L', 'D']\n",
        "stringVal = \"acadgild\"\n",
        "opList = [val.upper() for val in stringVal]\n",
        "print(opList)\n",
        "    \n",
        "#List 2 & List #3\n",
        "#['x', 'xx', 'xxx', 'xxxx', 'y', 'yy', 'yyy', 'yyyy', 'z', 'zz', 'zzz', 'zzzz']\n",
        "#['x', 'y', 'z', 'xx', 'yy', 'zz', 'xx', 'yy', 'zz', 'xxxx', 'yyyy', 'zzzz']\n",
        "stringVal2 = \"xyz\"\n",
        "opList1 = [strVal for strVal in stringVal2]\n",
        "finalList = opList1\n",
        "opList2 = [strVal1*2 for strVal1 in  stringVal2]\n",
        "finalList += opList2\n",
        "opList3 = [strVal3*2 for strVal3 in stringVal2]\n",
        "finalList += opList3\n",
        "opList4 = [strVal4*4 for strVal4 in stringVal2]\n",
        "finalList += opList4\n",
        "\n",
        "print(finalList);\n",
        "finalList.sort()\n",
        "print(finalList)\n",
        "\n",
        "#List #4\n",
        "#[[2], [3], [4], [3], [4], [5], [4], [5], [6]]\n",
        "numList1 = [2,3,4]\n",
        "numList2 = list(map(lambda x: x + 1 , numList1))\n",
        "numList3 = list(map(lambda x: x + 2 , numList1))\n",
        "numList1.extend(numList2)\n",
        "numList1.extend(numList3)\n",
        "finalList = numList1\n",
        "finalList = [[val] for val in finalList]\n",
        "print(finalList);\n",
        "\n",
        "#List #5\n",
        "#[[2, 3, 4, 5], [3, 4, 5, 6], [4, 5, 6, 7], [5, 6, 7, 8]]\n",
        "numList1 = [2,3,4,5]\n",
        "finalList = [numList1]\n",
        "numList2 = list(map(lambda x: x + 1 , numList1))\n",
        "finalList.append(numList2)\n",
        "#print(numList2)\n",
        "\n",
        "numList3 = list(map(lambda x: x + 2 , numList1))\n",
        "finalList.append(numList3)\n",
        "#print(numList3)\n",
        "\n",
        "numList3 = list(map(lambda x: x + 3 , numList1))\n",
        "finalList.append(numList3)\n",
        "#print(numList3)\n",
        "\n",
        "numList4 = list(map(lambda x: x + 4 , numList1))\n",
        "finalList.append(numList4)\n",
        "#print(numList4)\n",
        "\n",
        "#print(finalList)\n",
        "printList = [val for val in finalList]             \n",
        "print(printList)\n",
        "\n",
        "#List #6\n",
        "#[(1, 1), (2, 1), (3, 1), (1, 2), (2, 2), (3, 2), (1, 3), (2, 3), (3, 3)]\n",
        "initList = [1,2,3]\n",
        "newList1 = [(val,1) for val in initList]\n",
        "finalListTuple = newList1\n",
        "newList2 = [(val,2) for val in initList]\n",
        "newList3 = [(val,3) for val in initList]\n",
        "finalListTuple.extend(newList2);\n",
        "finalListTuple.extend(newList3);\n",
        "print(finalListTuple)"
      ],
      "execution_count": 0,
      "outputs": [
        {
          "output_type": "stream",
          "text": [
            "['A', 'C', 'A', 'D', 'G', 'I', 'L', 'D']\n",
            "['x', 'y', 'z', 'xx', 'yy', 'zz', 'xx', 'yy', 'zz', 'xxxx', 'yyyy', 'zzzz']\n",
            "['x', 'xx', 'xx', 'xxxx', 'y', 'yy', 'yy', 'yyyy', 'z', 'zz', 'zz', 'zzzz']\n",
            "[[2], [3], [4], [3], [4], [5], [4], [5], [6]]\n",
            "[[2, 3, 4, 5], [3, 4, 5, 6], [4, 5, 6, 7], [5, 6, 7, 8], [6, 7, 8, 9]]\n",
            "[(1, 1), (2, 1), (3, 1), (1, 2), (2, 2), (3, 2), (1, 3), (2, 3), (3, 3)]\n"
          ],
          "name": "stdout"
        }
      ]
    },
    {
      "cell_type": "code",
      "metadata": {
        "id": "Y333dGYtACfr",
        "colab_type": "code",
        "outputId": "4e344f9c-b6f2-40af-f64e-13ad3fff2e38",
        "colab": {}
      },
      "source": [
        "#Q 3\n",
        "def longestWord(argList):\n",
        "    result = max(argList, key = len)\n",
        "    return result\n",
        "    \n",
        "wordList = [\"thomas\",\"viju\",\"james\", \"hello world\"]\n",
        "opValue = longestWord(wordList)\n",
        "print(opValue)"
      ],
      "execution_count": 0,
      "outputs": [
        {
          "output_type": "stream",
          "text": [
            "hello world\n"
          ],
          "name": "stdout"
        }
      ]
    },
    {
      "cell_type": "markdown",
      "metadata": {
        "id": "BPbYLLJtACfu",
        "colab_type": "text"
      },
      "source": [
        "# Task 2:"
      ]
    },
    {
      "cell_type": "code",
      "metadata": {
        "id": "WWErY12WACfv",
        "colab_type": "code",
        "outputId": "571350e4-558e-406a-c84d-64a299b7a9b2",
        "colab": {
          "base_uri": "https://localhost:8080/",
          "height": 85
        }
      },
      "source": [
        "#Q 1.1\n",
        "#area = (s*(s-a)*(s-b)*(s-c)) ** 0.5\n",
        "\n",
        "class sideValues:\n",
        "  def getValues(self):\n",
        "    sidesTr = input(\"3 sides of the Triangle: \")\n",
        "    eachSideVal = [int(eachVal) for eachVal in sidesTr if eachVal!=\",\"]\n",
        "    return eachSideVal\n",
        "\n",
        "class areaTriangle(sideValues):\n",
        "\n",
        "  def calcArea(self):\n",
        "    triangleSide = super().getValues();\n",
        "    total = 0\n",
        "    total = sum(eachValue for eachValue in triangleSide)\n",
        "    #print(total)\n",
        "    s = total/2\n",
        "    #print(s)\n",
        "    areaValue = (s*(s-triangleSide[0])*(s-triangleSide[1])*(s-triangleSide[2])) ** 0.5\n",
        "    #print(areaValue)\n",
        "    return areaValue\n",
        "\n",
        "areaOBJ = areaTriangle()\n",
        "trArea = areaOBJ.calcArea()\n",
        "print(\"Area of the Triangle: \")\n",
        "print(round(trArea,2))"
      ],
      "execution_count": 0,
      "outputs": [
        {
          "output_type": "stream",
          "text": [
            "ERROR! Session/line number was not unique in database. History logging moved to new session 60\n",
            "3 sides of the Triangle: 9,8,7\n",
            "Area of the Triangle: \n",
            "26.83\n"
          ],
          "name": "stdout"
        }
      ]
    },
    {
      "cell_type": "code",
      "metadata": {
        "id": "QDgQp5X-ACfy",
        "colab_type": "code",
        "outputId": "1831697f-2762-4897-f913-8135bc708361",
        "colab": {
          "base_uri": "https://localhost:8080/",
          "height": 34
        }
      },
      "source": [
        "#Q 1.2\n",
        "def filter_long_words(argList, argVal):\n",
        "  retList = []\n",
        "  retList = [eachVal for eachVal in argList if len(eachVal) >= argVal]\n",
        "  print(retList)\n",
        "\n",
        "filter_long_words([\"thomas viju james\",\"buckhimgham palace\",\"chottanikkara temple\",\"india\",\"switzerland\"],20)"
      ],
      "execution_count": 0,
      "outputs": [
        {
          "output_type": "stream",
          "text": [
            "['chottanikkara temple']\n"
          ],
          "name": "stdout"
        }
      ]
    },
    {
      "cell_type": "code",
      "metadata": {
        "id": "ZC1snOljaF1t",
        "colab_type": "code",
        "outputId": "a1f94e87-f9e6-4923-ff18-beef60b0b121",
        "colab": {
          "base_uri": "https://localhost:8080/",
          "height": 34
        }
      },
      "source": [
        "#Q 2.1\n",
        "\n",
        "def lenList(argList):\n",
        "  lenList = list(map (lambda eachVal: len(eachVal), argList))\n",
        "  return lenList\n",
        "\n",
        "\n",
        "stringList = [\"thomas viju james\",\"buckhimgham palace\",\"chottanikkara temple\",\"india\",\"switzerland\"]\n",
        "dispList = lenList(stringList)\n",
        "print(dispList)"
      ],
      "execution_count": 0,
      "outputs": [
        {
          "output_type": "stream",
          "text": [
            "[17, 18, 20, 5, 11]\n"
          ],
          "name": "stdout"
        }
      ]
    },
    {
      "cell_type": "code",
      "metadata": {
        "id": "a1LDbW9Vd_Br",
        "colab_type": "code",
        "outputId": "0305705b-878b-48bb-e540-86e96c5e0dda",
        "colab": {
          "base_uri": "https://localhost:8080/",
          "height": 34
        }
      },
      "source": [
        "#Q 2.2\n",
        "def checkVowel(singleChar):\n",
        "  checkValue = singleChar.lower()\n",
        "  #print(checkValue)\n",
        "  #a = [True for checkValue in [\"a\",\"e\",\"i\",\"o\",\"u\"]]\n",
        "  #print(a)\n",
        "  #b = set(True for checkValue in [\"a\",\"e\",\"i\",\"o\",\"u\"])\n",
        "  #print(b)\n",
        "  if(checkValue in [\"a\",\"e\",\"i\",\"o\",\"u\"]):\n",
        "    print(True)\n",
        "  else:\n",
        "    print(False)\n",
        "  \n",
        "#inputChar = [\"A\"]\n",
        "checkVowel(\"A\")"
      ],
      "execution_count": 0,
      "outputs": [
        {
          "output_type": "stream",
          "text": [
            "True\n"
          ],
          "name": "stdout"
        }
      ]
    }
  ]
}
